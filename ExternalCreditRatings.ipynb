{
  "nbformat": 4,
  "nbformat_minor": 0,
  "metadata": {
    "colab": {
      "name": "ExternalCreditRatings.ipynb",
      "provenance": [],
      "collapsed_sections": []
    },
    "kernelspec": {
      "name": "python3",
      "display_name": "Python 3"
    }
  },
  "cells": [
    {
      "cell_type": "code",
      "metadata": {
        "id": "nIv6xjTatWZg"
      },
      "source": [
        "import pandas as pd\n",
        "from scipy.stats import  norm"
      ],
      "execution_count": null,
      "outputs": []
    },
    {
      "cell_type": "markdown",
      "metadata": {
        "id": "pbev4RfmvOtR"
      },
      "source": [
        "# **External Credit Ratings**"
      ]
    },
    {
      "cell_type": "code",
      "metadata": {
        "colab": {
          "base_uri": "https://localhost:8080/",
          "height": 173
        },
        "id": "cEvyvfiLr0Ec",
        "outputId": "f7889cb2-4ff9-4fc9-8406-43f4535bafc0"
      },
      "source": [
        "probabilities_percentage = [(0.00, 0.00, 0.07, 0.15, 0.24, 0.66, 1.40, 1.40), \n",
        "                (0.18, 0.44, 0.72, 1.27, 1.78, 2.99, 4.34, 4.70), \n",
        "                (5.20, 11.00, 15.95, 19.40, 21.88, 25.14, 29.02, 30.65),\n",
        "                (19.79, 26.92, 31.63, 35.97, 40.15, 42.64, 45.10, 45.10)]\n",
        "\n",
        "years = [1, 2, 3, 4, 5, 7, 10, 15]\n",
        "\n",
        "ratings = ['AAA', 'BBB', 'B', 'CCC']\n",
        "\n",
        "initial_ratings = pd.DataFrame(probabilities_percentage, columns = years, index = ratings)\n",
        "\n",
        "initial_ratings"
      ],
      "execution_count": null,
      "outputs": [
        {
          "output_type": "execute_result",
          "data": {
            "text/html": [
              "<div>\n",
              "<style scoped>\n",
              "    .dataframe tbody tr th:only-of-type {\n",
              "        vertical-align: middle;\n",
              "    }\n",
              "\n",
              "    .dataframe tbody tr th {\n",
              "        vertical-align: top;\n",
              "    }\n",
              "\n",
              "    .dataframe thead th {\n",
              "        text-align: right;\n",
              "    }\n",
              "</style>\n",
              "<table border=\"1\" class=\"dataframe\">\n",
              "  <thead>\n",
              "    <tr style=\"text-align: right;\">\n",
              "      <th></th>\n",
              "      <th>1</th>\n",
              "      <th>2</th>\n",
              "      <th>3</th>\n",
              "      <th>4</th>\n",
              "      <th>5</th>\n",
              "      <th>7</th>\n",
              "      <th>10</th>\n",
              "      <th>15</th>\n",
              "    </tr>\n",
              "  </thead>\n",
              "  <tbody>\n",
              "    <tr>\n",
              "      <th>AAA</th>\n",
              "      <td>0.00</td>\n",
              "      <td>0.00</td>\n",
              "      <td>0.07</td>\n",
              "      <td>0.15</td>\n",
              "      <td>0.24</td>\n",
              "      <td>0.66</td>\n",
              "      <td>1.40</td>\n",
              "      <td>1.40</td>\n",
              "    </tr>\n",
              "    <tr>\n",
              "      <th>BBB</th>\n",
              "      <td>0.18</td>\n",
              "      <td>0.44</td>\n",
              "      <td>0.72</td>\n",
              "      <td>1.27</td>\n",
              "      <td>1.78</td>\n",
              "      <td>2.99</td>\n",
              "      <td>4.34</td>\n",
              "      <td>4.70</td>\n",
              "    </tr>\n",
              "    <tr>\n",
              "      <th>B</th>\n",
              "      <td>5.20</td>\n",
              "      <td>11.00</td>\n",
              "      <td>15.95</td>\n",
              "      <td>19.40</td>\n",
              "      <td>21.88</td>\n",
              "      <td>25.14</td>\n",
              "      <td>29.02</td>\n",
              "      <td>30.65</td>\n",
              "    </tr>\n",
              "    <tr>\n",
              "      <th>CCC</th>\n",
              "      <td>19.79</td>\n",
              "      <td>26.92</td>\n",
              "      <td>31.63</td>\n",
              "      <td>35.97</td>\n",
              "      <td>40.15</td>\n",
              "      <td>42.64</td>\n",
              "      <td>45.10</td>\n",
              "      <td>45.10</td>\n",
              "    </tr>\n",
              "  </tbody>\n",
              "</table>\n",
              "</div>"
            ],
            "text/plain": [
              "        1      2      3      4      5      7      10     15\n",
              "AAA   0.00   0.00   0.07   0.15   0.24   0.66   1.40   1.40\n",
              "BBB   0.18   0.44   0.72   1.27   1.78   2.99   4.34   4.70\n",
              "B     5.20  11.00  15.95  19.40  21.88  25.14  29.02  30.65\n",
              "CCC  19.79  26.92  31.63  35.97  40.15  42.64  45.10  45.10"
            ]
          },
          "metadata": {
            "tags": []
          },
          "execution_count": 6
        }
      ]
    },
    {
      "cell_type": "markdown",
      "metadata": {
        "id": "KnoM06aKvKQr"
      },
      "source": [
        "### Probability that a AAA bond defaults by the end of the 4th year."
      ]
    },
    {
      "cell_type": "code",
      "metadata": {
        "colab": {
          "base_uri": "https://localhost:8080/"
        },
        "id": "KsIHS8IlvCLK",
        "outputId": "a6b3949f-3b85-4b60-945c-50031f696169"
      },
      "source": [
        "period = 'end'\n",
        "year = 4\n",
        "rating = 'AAA'\n",
        "\n",
        "if period == 'end':\n",
        "  probability = initial_ratings.loc[rating,year]\n",
        "else:\n",
        "  probability = initial_ratings.loc[rating,year] - initial_ratings.loc[rating,year - 1]\n",
        "\n",
        "probability"
      ],
      "execution_count": null,
      "outputs": [
        {
          "output_type": "execute_result",
          "data": {
            "text/plain": [
              "0.15"
            ]
          },
          "metadata": {
            "tags": []
          },
          "execution_count": 14
        }
      ]
    },
    {
      "cell_type": "markdown",
      "metadata": {
        "id": "hlo42226weMQ"
      },
      "source": [
        "### Probability that a B bond defaults during the 3rd year."
      ]
    },
    {
      "cell_type": "code",
      "metadata": {
        "colab": {
          "base_uri": "https://localhost:8080/"
        },
        "id": "euNz74DjwgxK",
        "outputId": "eeddc700-4609-49a4-daf7-65718e027405"
      },
      "source": [
        "period = 'during'\n",
        "year = 3\n",
        "rating = 'B'\n",
        "\n",
        "if period == 'end':\n",
        "  probability = initial_ratings.loc[rating,year]\n",
        "else:\n",
        "  probability = initial_ratings.loc[rating,year] - initial_ratings.loc[rating,year - 1]\n",
        "\n",
        "probability"
      ],
      "execution_count": null,
      "outputs": [
        {
          "output_type": "execute_result",
          "data": {
            "text/plain": [
              "4.949999999999999"
            ]
          },
          "metadata": {
            "tags": []
          },
          "execution_count": 13
        }
      ]
    },
    {
      "cell_type": "markdown",
      "metadata": {
        "id": "vNDQ23sAyJKV"
      },
      "source": [
        "### Probability that a B bond defaults during the 5th year."
      ]
    },
    {
      "cell_type": "code",
      "metadata": {
        "colab": {
          "base_uri": "https://localhost:8080/"
        },
        "id": "JDLXiRjVxpZg",
        "outputId": "05a03cb1-b61b-44b1-e0fd-7c5d5e775853"
      },
      "source": [
        "period = 'during'\n",
        "year = 5\n",
        "rating = 'B'\n",
        "\n",
        "if period == 'end':\n",
        "  probability = initial_ratings.loc[rating,year]\n",
        "else:\n",
        "  probability = initial_ratings.loc[rating,year] - initial_ratings.loc[rating,year - 1]\n",
        "\n",
        "probability"
      ],
      "execution_count": null,
      "outputs": [
        {
          "output_type": "execute_result",
          "data": {
            "text/plain": [
              "2.4800000000000004"
            ]
          },
          "metadata": {
            "tags": []
          },
          "execution_count": 19
        }
      ]
    },
    {
      "cell_type": "markdown",
      "metadata": {
        "id": "mGXhIbcbyaiJ"
      },
      "source": [
        "### Probability that a BBB bond defaults during the 3rd year, given that it has not defaulted before."
      ]
    },
    {
      "cell_type": "code",
      "metadata": {
        "colab": {
          "base_uri": "https://localhost:8080/"
        },
        "id": "1SN1PaRjyfF1",
        "outputId": "85195e79-a290-463f-ffbc-5d49f843e96b"
      },
      "source": [
        "defaulted = 'no'\n",
        "period = 'during'\n",
        "year = 3\n",
        "rating = 'BBB'\n",
        "\n",
        "# probability of defaulting during year\n",
        "if period == 'end':\n",
        "  probability = initial_ratings.loc[rating,year]\n",
        "else:\n",
        "  probability = initial_ratings.loc[rating,year] - initial_ratings.loc[rating,year - 1]\n",
        "\n",
        "# probability of surviving until the end of the previous year\n",
        "  if defaulted == 'no':\n",
        "    surviving = 100 - initial_ratings.loc[rating,year - 1]\n",
        "  else:\n",
        "    surviving = 1\n",
        "\n",
        "probability = 100 * probability / surviving\n",
        "probability"
      ],
      "execution_count": null,
      "outputs": [
        {
          "output_type": "execute_result",
          "data": {
            "text/plain": [
              "0.28123744475693047"
            ]
          },
          "metadata": {
            "tags": []
          },
          "execution_count": 21
        }
      ]
    },
    {
      "cell_type": "markdown",
      "metadata": {
        "id": "FvTtH3GC1Agz"
      },
      "source": [
        "### Probability that a AAA bond defaults during the 4rd year, given that it has not defaulted before"
      ]
    },
    {
      "cell_type": "code",
      "metadata": {
        "colab": {
          "base_uri": "https://localhost:8080/"
        },
        "id": "uxAV-k6S0eX5",
        "outputId": "e9a0e24c-69cc-4b1d-f1ab-84933fd7b452"
      },
      "source": [
        "defaulted = 'no'\n",
        "period = 'during'\n",
        "year = 4\n",
        "rating = 'AAA'\n",
        "\n",
        "# probability of defaulting during year\n",
        "if period == 'end':\n",
        "  probability = initial_ratings.loc[rating,year]\n",
        "else:\n",
        "  probability = initial_ratings.loc[rating,year] - initial_ratings.loc[rating,year - 1]\n",
        "\n",
        "# probability of surviving until the end of the previous year\n",
        "  if defaulted == 'no':\n",
        "    surviving = 100 - initial_ratings.loc[rating,year - 1]\n",
        "  else:\n",
        "    surviving = 1\n",
        "\n",
        "probability = 100 * probability / surviving\n",
        "probability"
      ],
      "execution_count": null,
      "outputs": [
        {
          "output_type": "execute_result",
          "data": {
            "text/plain": [
              "0.08005603922745921"
            ]
          },
          "metadata": {
            "tags": []
          },
          "execution_count": 23
        }
      ]
    },
    {
      "cell_type": "markdown",
      "metadata": {
        "id": "mZ07PmHM1aTR"
      },
      "source": [
        "## **Automatic procedure** to compute the previous and other similar probabilities"
      ]
    },
    {
      "cell_type": "code",
      "metadata": {
        "id": "bTTCcIgN1dov"
      },
      "source": [
        "def rating_matrix():\n",
        "  \"\"\"\n",
        "  The function creates the External Credit Rating Matrix\n",
        "  based on information provided from rating agency\n",
        "  \"\"\"\n",
        "\n",
        "  probabilities_percentage = [(0.00, 0.00, 0.07, 0.15, 0.24, 0.66, 1.40, 1.40), \n",
        "                (0.18, 0.44, 0.72, 1.27, 1.78, 2.99, 4.34, 4.70), \n",
        "                (5.20, 11.00, 15.95, 19.40, 21.88, 25.14, 29.02, 30.65),\n",
        "                (19.79, 26.92, 31.63, 35.97, 40.15, 42.64, 45.10, 45.10)]\n",
        "\n",
        "  years = [1, 2, 3, 4, 5, 7, 10, 15]\n",
        "\n",
        "  ratings = ['AAA', 'BBB', 'B', 'CCC']\n",
        "\n",
        "  initial_ratings = pd.DataFrame(probabilities_percentage, columns = years, index = ratings)\n",
        "\n",
        "  return initial_ratings\n",
        "\n",
        "\n",
        "def probability_default (year, rating, period = 'end', defaulted = 'yes'):\n",
        "  \"\"\"\n",
        "  The function calculates the probability of default based on an External Credit Rating\n",
        "\n",
        "  inputs:\n",
        "  - year (float)\n",
        "  - rating(str) options: 'AAA', 'BBB', 'B', 'CCC'\n",
        "  - period(str) options: 'end' (default), 'during'\n",
        "  - defaulted(str) options: 'yes (default), 'no'\n",
        "  \"\"\"\n",
        "\n",
        "  initial_ratings = rating_matrix()\n",
        "\n",
        "  # probability of defaulting during year\n",
        "  probability = initial_ratings.loc[rating,year]\n",
        "    \n",
        "  if period != 'end':\n",
        "    probability = initial_ratings.loc[rating,year] - initial_ratings.loc[rating,year - 1]\n",
        "\n",
        "  # probability of surviving until the end of the previous year\n",
        "  surviving = 1\n",
        "\n",
        "  final_probability = probability / surviving\n",
        "  \n",
        "  if defaulted == 'no':\n",
        "    surviving = 100 - initial_ratings.loc[rating,year - 1]\n",
        "    final_probability = 100 * probability / surviving\n",
        "  \n",
        "  return final_probability\n"
      ],
      "execution_count": null,
      "outputs": []
    },
    {
      "cell_type": "code",
      "metadata": {
        "colab": {
          "base_uri": "https://localhost:8080/"
        },
        "id": "NZC-Y1RA38d-",
        "outputId": "5b4aa2c9-8056-4fd5-bc8d-2b5b43ee83c9"
      },
      "source": [
        "p1 = probability_default(4, 'AAA')\n",
        "p2 = probability_default(3, 'B', 'during')\n",
        "p3 = probability_default(5, 'B', 'during')\n",
        "p4 = probability_default(3, 'BBB', 'during', 'no')\n",
        "p5 = probability_default(4, 'AAA', 'during', 'no')\n",
        "\n",
        "p1, p2, p3, p4, p5"
      ],
      "execution_count": null,
      "outputs": [
        {
          "output_type": "execute_result",
          "data": {
            "text/plain": [
              "(0.15,\n",
              " 4.949999999999999,\n",
              " 2.4800000000000004,\n",
              " 0.28123744475693047,\n",
              " 0.08005603922745921)"
            ]
          },
          "metadata": {
            "tags": []
          },
          "execution_count": 41
        }
      ]
    }
  ]
}